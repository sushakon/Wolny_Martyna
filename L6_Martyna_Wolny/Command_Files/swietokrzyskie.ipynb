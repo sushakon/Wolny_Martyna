{
 "cells": [
  {
   "cell_type": "code",
   "execution_count": 149,
   "metadata": {},
   "outputs": [],
   "source": [
    "import pandas as pd\n",
    "\n",
    "pd.options.mode.chained_assignment = None  # default='warn'"
   ]
  },
  {
   "cell_type": "code",
   "execution_count": 150,
   "metadata": {},
   "outputs": [],
   "source": [
    "# Set path to data\n",
    "DIR = \"../Analysis_Data/\""
   ]
  },
  {
   "cell_type": "code",
   "execution_count": 151,
   "metadata": {},
   "outputs": [
    {
     "data": {
      "text/html": [
       "<div>\n",
       "<style scoped>\n",
       "    .dataframe tbody tr th:only-of-type {\n",
       "        vertical-align: middle;\n",
       "    }\n",
       "\n",
       "    .dataframe tbody tr th {\n",
       "        vertical-align: top;\n",
       "    }\n",
       "\n",
       "    .dataframe thead th {\n",
       "        text-align: right;\n",
       "    }\n",
       "</style>\n",
       "<table border=\"1\" class=\"dataframe\">\n",
       "  <thead>\n",
       "    <tr style=\"text-align: right;\">\n",
       "      <th></th>\n",
       "      <th>Dni od zakupu</th>\n",
       "      <th>Marka</th>\n",
       "      <th>Wiek kupującego</th>\n",
       "      <th>Płeć kupującego</th>\n",
       "      <th>Ocena</th>\n",
       "    </tr>\n",
       "  </thead>\n",
       "  <tbody>\n",
       "    <tr>\n",
       "      <th>0</th>\n",
       "      <td>7</td>\n",
       "      <td>Beko</td>\n",
       "      <td>33.0</td>\n",
       "      <td>M</td>\n",
       "      <td>3.0</td>\n",
       "    </tr>\n",
       "    <tr>\n",
       "      <th>1</th>\n",
       "      <td>7</td>\n",
       "      <td>Beko</td>\n",
       "      <td>55.0</td>\n",
       "      <td>bd.</td>\n",
       "      <td>3.0</td>\n",
       "    </tr>\n",
       "    <tr>\n",
       "      <th>2</th>\n",
       "      <td>10</td>\n",
       "      <td>Beko</td>\n",
       "      <td>50.0</td>\n",
       "      <td>M</td>\n",
       "      <td>2.0</td>\n",
       "    </tr>\n",
       "    <tr>\n",
       "      <th>3</th>\n",
       "      <td>11</td>\n",
       "      <td>Tefal</td>\n",
       "      <td>36.0</td>\n",
       "      <td>M</td>\n",
       "      <td>2.5</td>\n",
       "    </tr>\n",
       "    <tr>\n",
       "      <th>4</th>\n",
       "      <td>3</td>\n",
       "      <td>Beko</td>\n",
       "      <td>62.0</td>\n",
       "      <td>K</td>\n",
       "      <td>2.5</td>\n",
       "    </tr>\n",
       "    <tr>\n",
       "      <th>...</th>\n",
       "      <td>...</td>\n",
       "      <td>...</td>\n",
       "      <td>...</td>\n",
       "      <td>...</td>\n",
       "      <td>...</td>\n",
       "    </tr>\n",
       "    <tr>\n",
       "      <th>461</th>\n",
       "      <td>8</td>\n",
       "      <td>Beko</td>\n",
       "      <td>19.0</td>\n",
       "      <td>M</td>\n",
       "      <td>2.5</td>\n",
       "    </tr>\n",
       "    <tr>\n",
       "      <th>462</th>\n",
       "      <td>9</td>\n",
       "      <td>Electrolux</td>\n",
       "      <td>50.0</td>\n",
       "      <td>K</td>\n",
       "      <td>3.0</td>\n",
       "    </tr>\n",
       "    <tr>\n",
       "      <th>463</th>\n",
       "      <td>9</td>\n",
       "      <td>Beko</td>\n",
       "      <td>NaN</td>\n",
       "      <td>K</td>\n",
       "      <td>2.0</td>\n",
       "    </tr>\n",
       "    <tr>\n",
       "      <th>464</th>\n",
       "      <td>5</td>\n",
       "      <td>Tefal</td>\n",
       "      <td>41.0</td>\n",
       "      <td>M</td>\n",
       "      <td>3.0</td>\n",
       "    </tr>\n",
       "    <tr>\n",
       "      <th>465</th>\n",
       "      <td>11</td>\n",
       "      <td>Beko</td>\n",
       "      <td>61.0</td>\n",
       "      <td>M</td>\n",
       "      <td>1.0</td>\n",
       "    </tr>\n",
       "  </tbody>\n",
       "</table>\n",
       "<p>466 rows × 5 columns</p>\n",
       "</div>"
      ],
      "text/plain": [
       "     Dni od zakupu       Marka  Wiek kupującego Płeć kupującego  Ocena\n",
       "0                7        Beko             33.0               M    3.0\n",
       "1                7        Beko             55.0             bd.    3.0\n",
       "2               10        Beko             50.0               M    2.0\n",
       "3               11       Tefal             36.0               M    2.5\n",
       "4                3        Beko             62.0               K    2.5\n",
       "..             ...         ...              ...             ...    ...\n",
       "461              8        Beko             19.0               M    2.5\n",
       "462              9  Electrolux             50.0               K    3.0\n",
       "463              9        Beko              NaN               K    2.0\n",
       "464              5       Tefal             41.0               M    3.0\n",
       "465             11        Beko             61.0               M    1.0\n",
       "\n",
       "[466 rows x 5 columns]"
      ]
     },
     "execution_count": 151,
     "metadata": {},
     "output_type": "execute_result"
    }
   ],
   "source": [
    "data_original = pd.read_csv(f\"{DIR}12_swietokrzyskie.csv\")\n",
    "data_original = data_original.drop(['Unnamed: 0'], axis=1)\n",
    "data_original"
   ]
  },
  {
   "cell_type": "code",
   "execution_count": 152,
   "metadata": {},
   "outputs": [],
   "source": [
    "#Dane kupujących\n",
    "\n",
    "data_client = data_original[[\"Wiek kupującego\", \"Płeć kupującego\"]]\n",
    "data_client = data_client.rename(columns={'Płeć kupującego':'Gender', 'Wiek kupującego':'Age'})\n",
    "\n",
    "data_client.to_csv(path_or_buf=f\"{DIR}data_client.csv\", index=False)"
   ]
  },
  {
   "cell_type": "code",
   "execution_count": 153,
   "metadata": {},
   "outputs": [
    {
     "name": "stdout",
     "output_type": "stream",
     "text": [
      "['M' 'bd.' 'K']\n"
     ]
    }
   ],
   "source": [
    "gender = data_client[\"Gender\"].unique()\n",
    "print(gender)"
   ]
  },
  {
   "cell_type": "code",
   "execution_count": 164,
   "metadata": {},
   "outputs": [
    {
     "data": {
      "text/html": [
       "<div>\n",
       "<style scoped>\n",
       "    .dataframe tbody tr th:only-of-type {\n",
       "        vertical-align: middle;\n",
       "    }\n",
       "\n",
       "    .dataframe tbody tr th {\n",
       "        vertical-align: top;\n",
       "    }\n",
       "\n",
       "    .dataframe thead th {\n",
       "        text-align: right;\n",
       "    }\n",
       "</style>\n",
       "<table border=\"1\" class=\"dataframe\">\n",
       "  <thead>\n",
       "    <tr style=\"text-align: right;\">\n",
       "      <th></th>\n",
       "      <th>Age</th>\n",
       "      <th>Gender</th>\n",
       "    </tr>\n",
       "  </thead>\n",
       "  <tbody>\n",
       "    <tr>\n",
       "      <th>4</th>\n",
       "      <td>62.0</td>\n",
       "      <td>K</td>\n",
       "    </tr>\n",
       "    <tr>\n",
       "      <th>12</th>\n",
       "      <td>50.0</td>\n",
       "      <td>K</td>\n",
       "    </tr>\n",
       "    <tr>\n",
       "      <th>14</th>\n",
       "      <td>NaN</td>\n",
       "      <td>K</td>\n",
       "    </tr>\n",
       "    <tr>\n",
       "      <th>18</th>\n",
       "      <td>34.0</td>\n",
       "      <td>K</td>\n",
       "    </tr>\n",
       "    <tr>\n",
       "      <th>23</th>\n",
       "      <td>42.0</td>\n",
       "      <td>K</td>\n",
       "    </tr>\n",
       "    <tr>\n",
       "      <th>...</th>\n",
       "      <td>...</td>\n",
       "      <td>...</td>\n",
       "    </tr>\n",
       "    <tr>\n",
       "      <th>438</th>\n",
       "      <td>41.0</td>\n",
       "      <td>K</td>\n",
       "    </tr>\n",
       "    <tr>\n",
       "      <th>446</th>\n",
       "      <td>53.0</td>\n",
       "      <td>K</td>\n",
       "    </tr>\n",
       "    <tr>\n",
       "      <th>458</th>\n",
       "      <td>47.0</td>\n",
       "      <td>K</td>\n",
       "    </tr>\n",
       "    <tr>\n",
       "      <th>462</th>\n",
       "      <td>50.0</td>\n",
       "      <td>K</td>\n",
       "    </tr>\n",
       "    <tr>\n",
       "      <th>463</th>\n",
       "      <td>NaN</td>\n",
       "      <td>K</td>\n",
       "    </tr>\n",
       "  </tbody>\n",
       "</table>\n",
       "<p>130 rows × 2 columns</p>\n",
       "</div>"
      ],
      "text/plain": [
       "      Age Gender\n",
       "4    62.0      K\n",
       "12   50.0      K\n",
       "14    NaN      K\n",
       "18   34.0      K\n",
       "23   42.0      K\n",
       "..    ...    ...\n",
       "438  41.0      K\n",
       "446  53.0      K\n",
       "458  47.0      K\n",
       "462  50.0      K\n",
       "463   NaN      K\n",
       "\n",
       "[130 rows x 2 columns]"
      ]
     },
     "execution_count": 164,
     "metadata": {},
     "output_type": "execute_result"
    }
   ],
   "source": [
    "#Data - woman\n",
    "client_woman = data_client[data_client.Gender.str.contains('K', case=False)]\n",
    "client_woman.to_csv(path_or_buf=f\"{DIR}client_woman.csv\", index=False)"
   ]
  },
  {
   "cell_type": "code",
   "execution_count": 155,
   "metadata": {},
   "outputs": [],
   "source": [
    "#Data - man\n",
    "client_man = data_client[data_client.Gender.str.contains('M', case=False)]\n",
    "client_man.to_csv(path_or_buf=f\"{DIR}client_man.csv\", index=False)"
   ]
  },
  {
   "cell_type": "code",
   "execution_count": 156,
   "metadata": {},
   "outputs": [],
   "source": [
    "#Data - no data on gender\n",
    "client_bd = data_client[data_client.Gender.str.contains('bd', case=False)]\n",
    "client_bd.to_csv(path_or_buf=f\"{DIR}client_bd.csv\", index=False)"
   ]
  },
  {
   "cell_type": "code",
   "execution_count": 157,
   "metadata": {},
   "outputs": [],
   "source": [
    "#Ocena odkurzaczy\n",
    "data_vacuum = data_original[[\"Dni od zakupu\", \"Marka\", \"Ocena\"]]\n",
    "data_vacuum = data_vacuum.rename(columns={'Dni od zakupu':'Dni_od_zakupu'})\n",
    "\n",
    "data_vacuum.to_csv(path_or_buf=f\"{DIR}data_vacuum.csv\", index=False)"
   ]
  },
  {
   "cell_type": "code",
   "execution_count": 158,
   "metadata": {},
   "outputs": [
    {
     "name": "stdout",
     "output_type": "stream",
     "text": [
      "['Beko' 'Tefal' 'Electrolux' 'Samsung' 'Dyson']\n"
     ]
    }
   ],
   "source": [
    "#Lista - marki odkurzaczy\n",
    "vacuum_by = data_vacuum[\"Marka\"].unique()\n",
    "print(vacuum_by)"
   ]
  },
  {
   "cell_type": "code",
   "execution_count": 159,
   "metadata": {},
   "outputs": [],
   "source": [
    "#Data - Beko\n",
    "beko_data = data_vacuum[data_vacuum.Marka.str.contains('Beko', case=False)]\n",
    "beko_data.to_csv(path_or_buf=f\"{DIR}beko_data.csv\", index=False)"
   ]
  },
  {
   "cell_type": "code",
   "execution_count": 160,
   "metadata": {},
   "outputs": [],
   "source": [
    "#Data - Tefal\n",
    "tefal_data = data_vacuum[data_vacuum.Marka.str.contains('Tefal', case=False)]\n",
    "tefal_data.to_csv(path_or_buf=f\"{DIR}tefal_data.csv\", index=False)"
   ]
  },
  {
   "cell_type": "code",
   "execution_count": 161,
   "metadata": {},
   "outputs": [],
   "source": [
    "#Data - Electrolux\n",
    "electrolux_data = data_vacuum[data_vacuum.Marka.str.contains('Electrolux', case=False)]\n",
    "electrolux_data.to_csv(path_or_buf=f\"{DIR}electrolux_data.csv\", index=False)"
   ]
  },
  {
   "cell_type": "code",
   "execution_count": 162,
   "metadata": {},
   "outputs": [],
   "source": [
    "#Data - Samsung\n",
    "samsung_data = data_vacuum[data_vacuum.Marka.str.contains('Samsung', case=False)]\n",
    "samsung_data.to_csv(path_or_buf=f\"{DIR}samsung_data.csv\", index=False)"
   ]
  },
  {
   "cell_type": "code",
   "execution_count": 163,
   "metadata": {},
   "outputs": [],
   "source": [
    "#Data - Dyson\n",
    "dyson_data = data_vacuum[data_vacuum.Marka.str.contains('Dyson', case=False)]\n",
    "dyson_data.to_csv(path_or_buf=f\"{DIR}dyson_data.csv\", index=False)"
   ]
  }
 ],
 "metadata": {
  "kernelspec": {
   "display_name": "Python 3.9.4 64-bit",
   "language": "python",
   "name": "python3"
  },
  "language_info": {
   "codemirror_mode": {
    "name": "ipython",
    "version": 3
   },
   "file_extension": ".py",
   "mimetype": "text/x-python",
   "name": "python",
   "nbconvert_exporter": "python",
   "pygments_lexer": "ipython3",
   "version": "3.9.4"
  },
  "orig_nbformat": 4,
  "vscode": {
   "interpreter": {
    "hash": "47e86d731e077963188d400b641a1f5cee6401b89b8a1175acb1a082248e2517"
   }
  }
 },
 "nbformat": 4,
 "nbformat_minor": 2
}
