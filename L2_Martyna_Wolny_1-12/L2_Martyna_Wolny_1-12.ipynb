{
 "cells": [
  {
   "cell_type": "markdown",
   "metadata": {},
   "source": [
    "**LABORATORIUM 2**<br>\n",
    "Martyna Wolny"
   ]
  },
  {
   "cell_type": "code",
   "execution_count": 2,
   "metadata": {},
   "outputs": [],
   "source": [
    "import psycopg2 as pg\n",
    "import pandas as pd"
   ]
  },
  {
   "cell_type": "code",
   "execution_count": 3,
   "metadata": {},
   "outputs": [],
   "source": [
    "# fragment kodu dodany tylko aby zapobiec wyskakiwaniu ostrzeżenia \"please consider using sqlalchemy\" przy każdym uzyciu psycopg2\n",
    "import warnings\n",
    "\n",
    "warnings.filterwarnings('ignore')"
   ]
  },
  {
   "cell_type": "code",
   "execution_count": 4,
   "metadata": {},
   "outputs": [],
   "source": [
    "connection = pg.connect(host='pgsql-196447.vipserv.org', port=5432, dbname='wbauer_adb', user='wbauer_adb', password='adb2020')"
   ]
  },
  {
   "cell_type": "code",
   "execution_count": 5,
   "metadata": {},
   "outputs": [
    {
     "name": "stdout",
     "output_type": "stream",
     "text": [
      "     city_id                city  country_id         last_update\n",
      "0          1  A Corua (La Corua)          87 2006-02-15 09:45:25\n",
      "1          2                Abha          82 2006-02-15 09:45:25\n",
      "2          3           Abu Dhabi         101 2006-02-15 09:45:25\n",
      "3          4                Acua          60 2006-02-15 09:45:25\n",
      "4          5               Adana          97 2006-02-15 09:45:25\n",
      "..       ...                 ...         ...                 ...\n",
      "595      596               Zaria          69 2006-02-15 09:45:25\n",
      "596      597        Zeleznogorsk          80 2006-02-15 09:45:25\n",
      "597      598         Zhezqazghan          51 2006-02-15 09:45:25\n",
      "598      599            Zhoushan          23 2006-02-15 09:45:25\n",
      "599      600          Ziguinchor          83 2006-02-15 09:45:25\n",
      "\n",
      "[600 rows x 4 columns]\n"
     ]
    }
   ],
   "source": [
    "df = pd.read_sql('select * from city',con=connection)\n",
    "print(df)"
   ]
  },
  {
   "cell_type": "markdown",
   "metadata": {},
   "source": [
    "**ZADANIE 1**"
   ]
  },
  {
   "cell_type": "code",
   "execution_count": 6,
   "metadata": {},
   "outputs": [
    {
     "name": "stdout",
     "output_type": "stream",
     "text": [
      "   count\n",
      "0     16\n"
     ]
    }
   ],
   "source": [
    "df = pd.read_sql('SELECT COUNT(category_id) FROM category',con=connection)\n",
    "print(df)"
   ]
  },
  {
   "cell_type": "markdown",
   "metadata": {},
   "source": [
    "**ZADANIE 2**"
   ]
  },
  {
   "cell_type": "code",
   "execution_count": 7,
   "metadata": {},
   "outputs": [
    {
     "name": "stdout",
     "output_type": "stream",
     "text": [
      "           name\n",
      "0        Action\n",
      "1     Animation\n",
      "2      Children\n",
      "3      Classics\n",
      "4        Comedy\n",
      "5   Documentary\n",
      "6         Drama\n",
      "7        Family\n",
      "8       Foreign\n",
      "9         Games\n",
      "10       Horror\n",
      "11        Music\n",
      "12          New\n",
      "13       Sci-Fi\n",
      "14       Sports\n",
      "15       Travel\n"
     ]
    }
   ],
   "source": [
    "df = pd.read_sql('SELECT name FROM category ORDER BY name ASC',con=connection)\n",
    "print(df)"
   ]
  },
  {
   "cell_type": "markdown",
   "metadata": {},
   "source": [
    "**ZADANIE 3**"
   ]
  },
  {
   "cell_type": "code",
   "execution_count": 8,
   "metadata": {},
   "outputs": [
    {
     "name": "stdout",
     "output_type": "stream",
     "text": [
      "Najmlodszy film:\n",
      "             title  release_year\n",
      "0  Chamber Italian          2006\n"
     ]
    }
   ],
   "source": [
    "df = pd.read_sql('SELECT title, release_year FROM film ORDER BY release_year ASC FETCH FIRST 1 ROW ONLY',con=connection)\n",
    "print('Najmlodszy film:')\n",
    "print(df)"
   ]
  },
  {
   "cell_type": "code",
   "execution_count": 9,
   "metadata": {},
   "outputs": [
    {
     "name": "stdout",
     "output_type": "stream",
     "text": [
      "Najstarszy film:\n",
      "             title  release_year\n",
      "0  Chamber Italian          2006\n"
     ]
    }
   ],
   "source": [
    "df = pd.read_sql('SELECT title, release_year FROM film ORDER BY release_year DESC FETCH FIRST 1 ROW ONLY',con=connection)\n",
    "print('Najstarszy film:')\n",
    "print(df)"
   ]
  },
  {
   "cell_type": "code",
   "execution_count": 10,
   "metadata": {},
   "outputs": [
    {
     "name": "stdout",
     "output_type": "stream",
     "text": [
      "                 title  release_year\n",
      "0      Chamber Italian          2006\n",
      "1     Grosse Wonderful          2006\n",
      "2      Airport Pollock          2006\n",
      "3    Bright Encounters          2006\n",
      "4     Academy Dinosaur          2006\n",
      "..                 ...           ...\n",
      "995     Young Language          2006\n",
      "996         Youth Kick          2006\n",
      "997       Zhivago Core          2006\n",
      "998  Zoolander Fiction          2006\n",
      "999          Zorro Ark          2006\n",
      "\n",
      "[1000 rows x 2 columns]\n",
      "Wszystkie filmy wydane zostaly w tym samym roku (2006)\n"
     ]
    }
   ],
   "source": [
    "df = pd.read_sql('SELECT title, release_year FROM film ORDER BY release_year ASC',con=connection)\n",
    "print(df)\n",
    "print('Wszystkie filmy wydane zostaly w tym samym roku (2006)')"
   ]
  },
  {
   "cell_type": "markdown",
   "metadata": {},
   "source": [
    "**ZADANIE 4**"
   ]
  },
  {
   "cell_type": "code",
   "execution_count": 11,
   "metadata": {},
   "outputs": [
    {
     "name": "stdout",
     "output_type": "stream",
     "text": [
      "   count\n",
      "0   6709\n"
     ]
    }
   ],
   "source": [
    "df = pd.read_sql(\"SELECT COUNT(rental_date) FROM rental WHERE rental_date BETWEEN '2005-07-01'::timestamp AND '2005-08-01'::timestamp\",con=connection)\n",
    "print(df)"
   ]
  },
  {
   "cell_type": "markdown",
   "metadata": {},
   "source": [
    "**ZADANIE 5**"
   ]
  },
  {
   "cell_type": "code",
   "execution_count": 12,
   "metadata": {},
   "outputs": [
    {
     "name": "stdout",
     "output_type": "stream",
     "text": [
      "   count\n",
      "0      0\n"
     ]
    }
   ],
   "source": [
    "df = pd.read_sql(\"SELECT COUNT(rental_date) FROM rental WHERE rental_date BETWEEN '2010-01-01'::timestamp AND '2011-02-01'::timestamp\",con=connection)\n",
    "print(df)"
   ]
  },
  {
   "cell_type": "markdown",
   "metadata": {},
   "source": [
    "**ZADANIE 6**"
   ]
  },
  {
   "cell_type": "code",
   "execution_count": 13,
   "metadata": {},
   "outputs": [
    {
     "name": "stdout",
     "output_type": "stream",
     "text": [
      "   amount\n",
      "0   11.99\n"
     ]
    }
   ],
   "source": [
    "df = pd.read_sql('SELECT amount FROM payment ORDER BY amount DESC FETCH FIRST 1 ROW ONLY',con=connection)\n",
    "print(df)"
   ]
  },
  {
   "cell_type": "markdown",
   "metadata": {},
   "source": [
    "**ZADANIE 7**"
   ]
  },
  {
   "cell_type": "code",
   "execution_count": 20,
   "metadata": {},
   "outputs": [
    {
     "name": "stdout",
     "output_type": "stream",
     "text": [
      "   customer_id first_name  last_name\n",
      "0          270       Leah     Curtis\n",
      "1          380    Russell    Brinson\n",
      "2          128   Marjorie     Tucker\n",
      "3          318      Brian      Wyman\n",
      "4          572     Sidney   Burleson\n",
      "5          501      Ruben      Geary\n",
      "6          558     Jimmie  Eggleston\n",
      "7          571    Johnnie   Chisholm\n"
     ]
    }
   ],
   "source": [
    "df = pd.read_sql(\"SELECT customer_id, first_name, last_name FROM customer WHERE address_id IN (SELECT address_id FROM address WHERE city_id IN (SELECT city_id FROM city WHERE country_id IN (SELECT country_id FROM country WHERE country IN ('Poland', 'Nigeria', 'Bangladesh'))))\",con=connection)\n",
    "print(df)"
   ]
  },
  {
   "cell_type": "markdown",
   "metadata": {},
   "source": [
    "**ZADANIE 8**"
   ]
  },
  {
   "cell_type": "code",
   "execution_count": 15,
   "metadata": {},
   "outputs": [
    {
     "name": "stdout",
     "output_type": "stream",
     "text": [
      "                address district        city    country\n",
      "0     23 Workhaven Lane  Alberta  Lethbridge     Canada\n",
      "1  1411 Lillydale Drive      QLD   Woodridge  Australia\n"
     ]
    }
   ],
   "source": [
    "df = pd.read_sql(\"SELECT address, district, city.city, country.country FROM address LEFT JOIN city ON address.city_id = city.city_id LEFT JOIN country ON country.country_id = city.country_id WHERE address_id IN (SELECT address_id FROM staff)\", con=connection)\n",
    "print(df)"
   ]
  },
  {
   "cell_type": "markdown",
   "metadata": {},
   "source": [
    "**ZADANIE 9**"
   ]
  },
  {
   "cell_type": "code",
   "execution_count": 16,
   "metadata": {},
   "outputs": [
    {
     "name": "stdout",
     "output_type": "stream",
     "text": [
      "Liczba pracowników miszkających w Argentynie lub Hiszpanii:\n",
      "   count\n",
      "0      0\n"
     ]
    }
   ],
   "source": [
    "df = pd.read_sql(\"SELECT COUNT (staff_id) FROM staff WHERE address_id IN (SELECT address_id FROM address WHERE city_id IN (SELECT city_id FROM city WHERE country_id IN (SELECT country_id FROM country WHERE country IN ('Argentina', 'Spain'))))\",con=connection)\n",
    "print('Liczba pracowników miszkających w Argentynie lub Hiszpanii:')\n",
    "print(df)"
   ]
  },
  {
   "cell_type": "markdown",
   "metadata": {},
   "source": [
    "**ZADANIE 10**"
   ]
  },
  {
   "cell_type": "code",
   "execution_count": 17,
   "metadata": {},
   "outputs": [
    {
     "name": "stdout",
     "output_type": "stream",
     "text": [
      "           name\n",
      "0        Action\n",
      "1     Animation\n",
      "2      Children\n",
      "3      Classics\n",
      "4        Comedy\n",
      "5   Documentary\n",
      "6         Drama\n",
      "7        Family\n",
      "8       Foreign\n",
      "9         Games\n",
      "10       Horror\n",
      "11        Music\n",
      "12          New\n",
      "13       Sci-Fi\n",
      "14       Sports\n",
      "15       Travel\n"
     ]
    }
   ],
   "source": [
    "df = pd.read_sql(\"SELECT name FROM category WHERE category_id IN (SELECT category_id FROM film_category WHERE film_id IN (SELECT film_id FROM film WHERE film_id IN (SELECT film_id FROM inventory WHERE inventory_id IN (SELECT inventory_id FROM rental))))\",con=connection)\n",
    "print(df)"
   ]
  },
  {
   "cell_type": "markdown",
   "metadata": {},
   "source": [
    "**ZADANIE 11**"
   ]
  },
  {
   "cell_type": "code",
   "execution_count": 18,
   "metadata": {},
   "outputs": [
    {
     "name": "stdout",
     "output_type": "stream",
     "text": [
      "           name\n",
      "0        Action\n",
      "1     Animation\n",
      "2      Children\n",
      "3      Classics\n",
      "4        Comedy\n",
      "5   Documentary\n",
      "6         Drama\n",
      "7        Family\n",
      "8       Foreign\n",
      "9         Games\n",
      "10       Horror\n",
      "11        Music\n",
      "12          New\n",
      "13       Sci-Fi\n",
      "14       Sports\n",
      "15       Travel\n"
     ]
    }
   ],
   "source": [
    "df = pd.read_sql(\"SELECT name FROM category WHERE category_id IN (SELECT category_id FROM film_category WHERE film_id IN (SELECT film_id FROM film WHERE film_id IN (SELECT film_id FROM inventory WHERE inventory_id IN (SELECT inventory_id FROM rental WHERE customer_id IN (SELECT customer_id FROM customer WHERE address_id IN (SELECT address_id FROM address WHERE city_id IN (SELECT city_id FROM city WHERE country_id IN (SELECT country_id FROM country WHERE country IN ('United States')))))))))\",con=connection)\n",
    "print(df)"
   ]
  },
  {
   "cell_type": "markdown",
   "metadata": {},
   "source": [
    "**ZADANIE 12**"
   ]
  },
  {
   "cell_type": "code",
   "execution_count": 19,
   "metadata": {},
   "outputs": [
    {
     "name": "stdout",
     "output_type": "stream",
     "text": [
      "                title  actor_id first_name  last_name\n",
      "0     Bilko Anonymous        93      Ellen    Presley\n",
      "1   Caribbean Liberty        93      Ellen    Presley\n",
      "2    Casper Dragonfly        93      Ellen    Presley\n",
      "3    Empire Malkovich        93      Ellen    Presley\n",
      "4       Floats Garden        93      Ellen    Presley\n",
      "..                ...       ...        ...        ...\n",
      "64       Outlaw Hanky       186      Julia  Zellweger\n",
      "65    Panky Submarine       186      Julia  Zellweger\n",
      "66   Rider Caddyshack       186      Julia  Zellweger\n",
      "67          Won Dares       186      Julia  Zellweger\n",
      "68      Wyoming Storm       186      Julia  Zellweger\n",
      "\n",
      "[69 rows x 4 columns]\n"
     ]
    }
   ],
   "source": [
    "df = pd.read_sql(\"SELECT title, film_actor.actor_id, actor.first_name, actor.last_name FROM film LEFT JOIN film_actor ON film.film_id = film_actor.film_id LEFT JOIN actor ON film_actor.actor_id = actor.actor_id WHERE actor.first_name IN ('Julia', 'Olympia', 'Ellen') AND actor.last_name IN ('Zellweger', 'Pfeiffer', 'Presley')\",con=connection)\n",
    "print(df)"
   ]
  }
 ],
 "metadata": {
  "kernelspec": {
   "display_name": "Python 3.9.4 64-bit",
   "language": "python",
   "name": "python3"
  },
  "language_info": {
   "codemirror_mode": {
    "name": "ipython",
    "version": 3
   },
   "file_extension": ".py",
   "mimetype": "text/x-python",
   "name": "python",
   "nbconvert_exporter": "python",
   "pygments_lexer": "ipython3",
   "version": "3.9.4"
  },
  "orig_nbformat": 4,
  "vscode": {
   "interpreter": {
    "hash": "47e86d731e077963188d400b641a1f5cee6401b89b8a1175acb1a082248e2517"
   }
  }
 },
 "nbformat": 4,
 "nbformat_minor": 2
}
